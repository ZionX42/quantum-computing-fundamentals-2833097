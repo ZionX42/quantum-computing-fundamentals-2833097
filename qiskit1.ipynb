{
 "cells": [
  {
   "cell_type": "code",
   "execution_count": 1,
   "metadata": {},
   "outputs": [],
   "source": [
    "from qiskit import *\n",
    "from qiskit.tools.visualization import plot_histogram\n",
    "%matplotlib inline "
   ]
  },
  {
   "cell_type": "code",
   "execution_count": 2,
   "metadata": {},
   "outputs": [
    {
     "data": {
      "text/plain": [
       "<qiskit.circuit.instructionset.InstructionSet at 0x1ea77cce3b0>"
      ]
     },
     "execution_count": 2,
     "metadata": {},
     "output_type": "execute_result"
    }
   ],
   "source": [
    "qr = QuantumRegister (1)\n",
    "cr = ClassicalRegister (1)\n",
    "circuit = QuantumCircuit (qr , cr)\n",
    "circuit.h(qr)\n",
    "circuit.measure (qr, cr)"
   ]
  },
  {
   "cell_type": "code",
   "execution_count": 3,
   "metadata": {},
   "outputs": [
    {
     "ename": "MissingOptionalLibraryError",
     "evalue": "\"The 'qiskit-aer' library is required to use 'Aer provider'. You can install it with 'pip install qiskit-aer'.\"",
     "output_type": "error",
     "traceback": [
      "\u001b[1;31m---------------------------------------------------------------------------\u001b[0m",
      "\u001b[1;31mImportError\u001b[0m                               Traceback (most recent call last)",
      "File \u001b[1;32mc:\\Users\\tknas\\AppData\\Local\\Programs\\Python\\Python312\\Lib\\site-packages\\qiskit\\__init__.py:123\u001b[0m, in \u001b[0;36mAerWrapper.__getattr__\u001b[1;34m(self, attr)\u001b[0m\n\u001b[0;32m    122\u001b[0m \u001b[39mtry\u001b[39;00m:\n\u001b[1;32m--> 123\u001b[0m     \u001b[39mfrom\u001b[39;00m \u001b[39mqiskit\u001b[39;00m\u001b[39m.\u001b[39;00m\u001b[39mproviders\u001b[39;00m \u001b[39mimport\u001b[39;00m aer\n\u001b[0;32m    125\u001b[0m     \u001b[39mself\u001b[39m\u001b[39m.\u001b[39maer \u001b[39m=\u001b[39m aer\u001b[39m.\u001b[39mAer\n",
      "\u001b[1;31mImportError\u001b[0m: cannot import name 'aer' from 'qiskit.providers' (c:\\Users\\tknas\\AppData\\Local\\Programs\\Python\\Python312\\Lib\\site-packages\\qiskit\\providers\\__init__.py)",
      "\nThe above exception was the direct cause of the following exception:\n",
      "\u001b[1;31mMissingOptionalLibraryError\u001b[0m               Traceback (most recent call last)",
      "\u001b[1;32mc:\\Users\\tknas\\My Drive\\UNI\\Quantum Computing\\Repositories\\Qiskit Setup\\Qiskit_LI\\qiskit1.ipynb Cell 3\u001b[0m line \u001b[0;36m1\n\u001b[1;32m----> <a href='vscode-notebook-cell:/c%3A/Users/tknas/My%20Drive/UNI/Quantum%20Computing/Repositories/Qiskit%20Setup/Qiskit_LI/qiskit1.ipynb#W2sZmlsZQ%3D%3D?line=0'>1</a>\u001b[0m simulator \u001b[39m=\u001b[39m Aer\u001b[39m.\u001b[39;49mget_backend(\u001b[39m'\u001b[39m\u001b[39mqasm_simulator\u001b[39m\u001b[39m'\u001b[39m)\n\u001b[0;32m      <a href='vscode-notebook-cell:/c%3A/Users/tknas/My%20Drive/UNI/Quantum%20Computing/Repositories/Qiskit%20Setup/Qiskit_LI/qiskit1.ipynb#W2sZmlsZQ%3D%3D?line=1'>2</a>\u001b[0m result \u001b[39m=\u001b[39m execute (circuit, backend \u001b[39m=\u001b[39m simulator, shots \u001b[39m=\u001b[39m \u001b[39m1024\u001b[39m)\u001b[39m.\u001b[39mresult()\n\u001b[0;32m      <a href='vscode-notebook-cell:/c%3A/Users/tknas/My%20Drive/UNI/Quantum%20Computing/Repositories/Qiskit%20Setup/Qiskit_LI/qiskit1.ipynb#W2sZmlsZQ%3D%3D?line=2'>3</a>\u001b[0m plot_histogram(result\u001b[39m.\u001b[39mget_counts())\n",
      "File \u001b[1;32mc:\\Users\\tknas\\AppData\\Local\\Programs\\Python\\Python312\\Lib\\site-packages\\qiskit\\__init__.py:134\u001b[0m, in \u001b[0;36mAerWrapper.__getattr__\u001b[1;34m(self, attr)\u001b[0m\n\u001b[0;32m    126\u001b[0m         warnings\u001b[39m.\u001b[39mwarn(\n\u001b[0;32m    127\u001b[0m             \u001b[39m\"\u001b[39m\u001b[39mThe qiskit.Aer entry point will be deprecated in a future release and \u001b[39m\u001b[39m\"\u001b[39m\n\u001b[0;32m    128\u001b[0m             \u001b[39m\"\u001b[39m\u001b[39msubsequently removed. Instead you should use this \u001b[39m\u001b[39m\"\u001b[39m\n\u001b[1;32m   (...)\u001b[0m\n\u001b[0;32m    131\u001b[0m             stacklevel\u001b[39m=\u001b[39m\u001b[39m2\u001b[39m,\n\u001b[0;32m    132\u001b[0m         )\n\u001b[0;32m    133\u001b[0m     \u001b[39mexcept\u001b[39;00m \u001b[39mImportError\u001b[39;00m \u001b[39mas\u001b[39;00m ex:\n\u001b[1;32m--> 134\u001b[0m         \u001b[39mraise\u001b[39;00m MissingOptionalLibraryError(\n\u001b[0;32m    135\u001b[0m             \u001b[39m\"\u001b[39m\u001b[39mqiskit-aer\u001b[39m\u001b[39m\"\u001b[39m, \u001b[39m\"\u001b[39m\u001b[39mAer provider\u001b[39m\u001b[39m\"\u001b[39m, \u001b[39m\"\u001b[39m\u001b[39mpip install qiskit-aer\u001b[39m\u001b[39m\"\u001b[39m\n\u001b[0;32m    136\u001b[0m         ) \u001b[39mfrom\u001b[39;00m \u001b[39mex\u001b[39;00m\n\u001b[0;32m    137\u001b[0m \u001b[39mreturn\u001b[39;00m \u001b[39mgetattr\u001b[39m(\u001b[39mself\u001b[39m\u001b[39m.\u001b[39maer, attr)\n",
      "\u001b[1;31mMissingOptionalLibraryError\u001b[0m: \"The 'qiskit-aer' library is required to use 'Aer provider'. You can install it with 'pip install qiskit-aer'.\""
     ]
    }
   ],
   "source": [
    "simulator = Aer.get_backend('qasm_simulator')\n",
    "result = execute (circuit, backend = simulator, shots = 1024).result()\n",
    "plot_histogram(result.get_counts())"
   ]
  }
 ],
 "metadata": {
  "kernelspec": {
   "display_name": "Python 3",
   "language": "python",
   "name": "python3"
  },
  "language_info": {
   "codemirror_mode": {
    "name": "ipython",
    "version": 3
   },
   "file_extension": ".py",
   "mimetype": "text/x-python",
   "name": "python",
   "nbconvert_exporter": "python",
   "pygments_lexer": "ipython3",
   "version": "3.12.0"
  }
 },
 "nbformat": 4,
 "nbformat_minor": 2
}
